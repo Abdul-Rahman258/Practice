{
  "nbformat": 4,
  "nbformat_minor": 0,
  "metadata": {
    "colab": {
      "provenance": [],
      "authorship_tag": "ABX9TyNOyL6IYDr19OCE4+oP7Xth",
      "include_colab_link": true
    },
    "kernelspec": {
      "name": "python3",
      "display_name": "Python 3"
    },
    "language_info": {
      "name": "python"
    }
  },
  "cells": [
    {
      "cell_type": "markdown",
      "metadata": {
        "id": "view-in-github",
        "colab_type": "text"
      },
      "source": [
        "<a href=\"https://colab.research.google.com/github/Abdul-Rahman258/Practice-of-First-Git-repo-Python-Libraries-and-so-on/blob/master/Python_Practice_4.ipynb\" target=\"_parent\"><img src=\"https://colab.research.google.com/assets/colab-badge.svg\" alt=\"Open In Colab\"/></a>"
      ]
    },
    {
      "cell_type": "markdown",
      "source": [
        "# ***Dictionaries/Jason***"
      ],
      "metadata": {
        "id": "0g76FqXWUztx"
      }
    },
    {
      "cell_type": "markdown",
      "source": [
        "API uses JSON formt to move data from one place to another input and output both are in Json"
      ],
      "metadata": {
        "id": "3tE0ZVNVUneb"
      }
    },
    {
      "cell_type": "code",
      "execution_count": 5,
      "metadata": {
        "colab": {
          "base_uri": "https://localhost:8080/"
        },
        "id": "Ocv65-35Q2Ep",
        "outputId": "e02111ac-abec-4fd7-fef8-10927a0d9011"
      },
      "outputs": [
        {
          "output_type": "stream",
          "name": "stdout",
          "text": [
            "{'brand': 'Lexus', 'model': 'LC500', 'year': 2023}\n",
            "Lexus\n",
            "3\n",
            "<class 'dict'>\n"
          ]
        }
      ],
      "source": [
        "Mydict = {\n",
        "  \"brand\": \"Lexus\",\n",
        "  \"model\": \"LC500\",\n",
        "  \"year\": 2023\n",
        "}\n",
        "print(Mydict)\n",
        "print(Mydict[\"brand\"])\n",
        "print(len(Mydict))\n",
        "print(type(Mydict))"
      ]
    },
    {
      "cell_type": "markdown",
      "source": [
        "all the key and values before the last one will have comma except the last one\n",
        "values can be of any datatypes no specific datatype needed"
      ],
      "metadata": {
        "id": "Y09PWBLeXJbu"
      }
    },
    {
      "cell_type": "markdown",
      "source": [
        "#**Accessing items**"
      ],
      "metadata": {
        "id": "Q1aXl4i-YE6P"
      }
    },
    {
      "cell_type": "code",
      "source": [
        "print(Mydict[\"brand\"])\n",
        "x = Mydict[\"model\"]\n",
        "print(x)\n",
        "x = Mydict.get(\"model\")\n",
        "print(x)\n",
        "x = Mydict.keys()\n",
        "print(x)\n",
        "x = Mydict.values()\n",
        "print(x)"
      ],
      "metadata": {
        "colab": {
          "base_uri": "https://localhost:8080/"
        },
        "id": "Wbwfr4F8YHrP",
        "outputId": "3baa27ad-fe56-4ef6-ed85-4cd2ec2d0177"
      },
      "execution_count": 8,
      "outputs": [
        {
          "output_type": "stream",
          "name": "stdout",
          "text": [
            "Lexus\n",
            "LC500\n",
            "LC500\n",
            "dict_keys(['brand', 'model', 'year'])\n",
            "dict_values(['Lexus', 'LC500', 2023])\n"
          ]
        }
      ]
    },
    {
      "cell_type": "code",
      "source": [
        "car = {\n",
        "\"brand\": \"Ford\",\n",
        "\"model\": \"Mustang\",\n",
        "\"year\": 1964\n",
        "}\n",
        "\n",
        "x = car.keys()\n",
        "\n",
        "print(x)\n",
        "\n",
        "car[\"color\"] = \"white\"\n",
        "\n",
        "print(x)\n",
        "x = car.values()\n",
        "print(x)"
      ],
      "metadata": {
        "colab": {
          "base_uri": "https://localhost:8080/"
        },
        "id": "OKS7FvZEYoSC",
        "outputId": "6554001f-9d31-492e-92fb-dd0a2c21c81e"
      },
      "execution_count": 10,
      "outputs": [
        {
          "output_type": "stream",
          "name": "stdout",
          "text": [
            "dict_keys(['brand', 'model', 'year'])\n",
            "dict_keys(['brand', 'model', 'year', 'color'])\n",
            "dict_values(['Ford', 'Mustang', 1964, 'white'])\n"
          ]
        }
      ]
    },
    {
      "cell_type": "markdown",
      "source": [
        ".item for key value tuple"
      ],
      "metadata": {
        "id": "lKRHjGAeZKrV"
      }
    },
    {
      "cell_type": "code",
      "source": [
        "car = {\n",
        "\"brand\": \"Ford\",\n",
        "\"model\": \"Mustang\",\n",
        "\"year\": 1964\n",
        "}\n",
        "\n",
        "x = car.items()\n",
        "\n",
        "print(x) #before the change\n",
        "\n",
        "car[\"year\"] = 2020\n",
        "\n",
        "print(x) #after the change"
      ],
      "metadata": {
        "colab": {
          "base_uri": "https://localhost:8080/"
        },
        "id": "W__bRwGfZN0T",
        "outputId": "120b513d-ce9f-411f-b4f0-9157b30968de"
      },
      "execution_count": 11,
      "outputs": [
        {
          "output_type": "stream",
          "name": "stdout",
          "text": [
            "dict_items([('brand', 'Ford'), ('model', 'Mustang'), ('year', 1964)])\n",
            "dict_items([('brand', 'Ford'), ('model', 'Mustang'), ('year', 2020)])\n"
          ]
        }
      ]
    },
    {
      "cell_type": "markdown",
      "source": [
        "Checking if the key exists or not"
      ],
      "metadata": {
        "id": "e26iS2TPZUsM"
      }
    },
    {
      "cell_type": "code",
      "source": [
        "thisdict = {\n",
        "  \"brand\": \"Ford\",\n",
        "  \"model\": \"Mustang\",\n",
        "  \"year\": 1964\n",
        "}\n",
        "if \"model\" in thisdict:\n",
        "  print(\"Yes, 'model' is one of the keys in the thisdict dictionary\")\n"
      ],
      "metadata": {
        "colab": {
          "base_uri": "https://localhost:8080/"
        },
        "id": "GXQJ4D5gZUIU",
        "outputId": "8fd1b7cc-d30b-4298-e450-e41b5e9bbb5c"
      },
      "execution_count": 12,
      "outputs": [
        {
          "output_type": "stream",
          "name": "stdout",
          "text": [
            "Yes, 'model' is one of the keys in the thisdict dictionary\n"
          ]
        }
      ]
    },
    {
      "cell_type": "code",
      "source": [
        "thisdict = {\n",
        "  \"brand\": \"Ford\",\n",
        "  \"model\": \"Mustang\",\n",
        "  \"year\": 1964\n",
        "}\n",
        "thisdict.update({\"year\": 2020})\n",
        "print(thisdict)"
      ],
      "metadata": {
        "colab": {
          "base_uri": "https://localhost:8080/"
        },
        "id": "0NCUXQAHaA6E",
        "outputId": "5c7f8639-a5e5-4774-ae46-4c9669c884bf"
      },
      "execution_count": 14,
      "outputs": [
        {
          "output_type": "stream",
          "name": "stdout",
          "text": [
            "{'brand': 'Ford', 'model': 'Mustang', 'year': 2020}\n"
          ]
        }
      ]
    },
    {
      "cell_type": "code",
      "source": [
        "thisdict = {\n",
        "  \"brand\": \"Ford\",\n",
        "  \"model\": \"Mustang\",\n",
        "  \"year\": 1964\n",
        "}\n",
        "thisdict.pop(\"model\")\n",
        "print(thisdict)\n"
      ],
      "metadata": {
        "id": "OLseuSECbvRx"
      },
      "execution_count": null,
      "outputs": []
    },
    {
      "cell_type": "code",
      "source": [
        "thisdict = {\n",
        "  \"brand\": \"Ford\",\n",
        "  \"model\": \"Mustang\",\n",
        "  \"year\": 1964\n",
        "}\n",
        "thisdict.popitem()\n",
        "print(thisdict)"
      ],
      "metadata": {
        "id": "WOnTLqIKbwPX"
      },
      "execution_count": null,
      "outputs": []
    },
    {
      "cell_type": "markdown",
      "source": [
        "it has same functions as list"
      ],
      "metadata": {
        "id": "bXPc9iX-dwtb"
      }
    },
    {
      "cell_type": "markdown",
      "source": [
        "#**NESTED DICT**"
      ],
      "metadata": {
        "id": "F1vsmhh9e2PX"
      }
    },
    {
      "cell_type": "code",
      "source": [
        "myfamily = {\n",
        "  \"child1\" : {\n",
        "    \"name\" : \"Emil\",\n",
        "    \"year\" : 2004\n",
        "  },\n",
        "  \"child2\" : {\n",
        "    \"name\" : \"Tobias\",\n",
        "    \"year\" : 2007\n",
        "  },\n",
        "  \"child3\" : {\n",
        "    \"name\" : \"Linus\",\n",
        "    \"year\" : 2011\n",
        "  }\n",
        "}\n",
        "print(myfamily[\"child2\"][\"name\"])"
      ],
      "metadata": {
        "colab": {
          "base_uri": "https://localhost:8080/"
        },
        "id": "B_BqlvSadwKj",
        "outputId": "379b272f-5bf2-4073-83e3-5c1f4109294e"
      },
      "execution_count": 15,
      "outputs": [
        {
          "output_type": "stream",
          "name": "stdout",
          "text": [
            "Tobias\n"
          ]
        }
      ]
    },
    {
      "cell_type": "code",
      "source": [
        "Students = {\n",
        "  \"Student1\" : {\n",
        "    \"name\" : \"Emil\",\n",
        "    \"year\" : 2004,\n",
        "    \"Majors\" : [\"Physics\",\"Science\",\"Math\"]\n",
        "  },\n",
        "  \"Student2\" : {\n",
        "    \"name\" : \"Tobias\",\n",
        "    \"year\" : 2007 ,\n",
        "    \"Majors\" : [\"Math\",\"Physics\",\"Science\",\"English\"]\n",
        "  },\n",
        "  \"Student3\" : {\n",
        "    \"name\" : \"Linus\",\n",
        "    \"year\" : 2011 ,\n",
        "    \"Majors\" : [\"Math\",\"Science\",\"English\",\"History\",\"Physics\"]\n",
        "  }\n",
        "}\n",
        "\n",
        "x=[]\n",
        "for i in Students:\n",
        "\n",
        "     name = Students[i][\"name\"]\n",
        "     year = Students[i][\"year\"]\n",
        "     Majors = Students[i][\"Majors\"][2]\n",
        "     x.append({\"name\":name,\"year\":year,\"Majors\":Majors})\n",
        "\n",
        "\n",
        "print(x)\n",
        "\n",
        "\n"
      ],
      "metadata": {
        "colab": {
          "base_uri": "https://localhost:8080/"
        },
        "id": "waeM-Yx3f9fH",
        "outputId": "2b6c6fbb-820e-415b-a3c5-26efcc6931ff"
      },
      "execution_count": 35,
      "outputs": [
        {
          "output_type": "stream",
          "name": "stdout",
          "text": [
            "[{'name': 'Emil', 'year': 2004, 'Majors': 'Math'}, {'name': 'Tobias', 'year': 2007, 'Majors': 'Science'}, {'name': 'Linus', 'year': 2011, 'Majors': 'English'}]\n"
          ]
        }
      ]
    },
    {
      "cell_type": "markdown",
      "source": [
        "# ***IF ELSE CONDITIONS***"
      ],
      "metadata": {
        "id": "aoyX6YIew5UL"
      }
    },
    {
      "cell_type": "code",
      "source": [
        "a = 33\n",
        "b = 200\n",
        "if b > a:\n",
        "  print(\"b is greater than a\")\n",
        "  print(\"hello\")"
      ],
      "metadata": {
        "colab": {
          "base_uri": "https://localhost:8080/"
        },
        "id": "ybaA1xz8xBAi",
        "outputId": "c2015163-ee80-4d2c-96ce-b0efb2f924c5"
      },
      "execution_count": 36,
      "outputs": [
        {
          "output_type": "stream",
          "name": "stdout",
          "text": [
            "b is greater than a\n"
          ]
        }
      ]
    },
    {
      "cell_type": "markdown",
      "source": [
        "tab for indent and shit + tab to remove intend\n",
        "also learned taking input through the input keyword"
      ],
      "metadata": {
        "id": "oenYB4haytf3"
      }
    },
    {
      "cell_type": "code",
      "source": [
        "a = int(input(\"please enter a number to see if its even or odd :\"))\n",
        "if a%2==0:\n",
        "  print(f\"{a} is an even number\")\n",
        "else:\n",
        " print(f\"{a} is an odd number\")"
      ],
      "metadata": {
        "colab": {
          "base_uri": "https://localhost:8080/"
        },
        "id": "YwtJiHFyzdEy",
        "outputId": "cac551d8-2e16-4ebe-bb3b-39c673ec602c"
      },
      "execution_count": 42,
      "outputs": [
        {
          "output_type": "stream",
          "name": "stdout",
          "text": [
            "please enter a number to see if its even or odd :6\n",
            "6 is an even number\n"
          ]
        }
      ]
    },
    {
      "cell_type": "markdown",
      "source": [
        "#***WHILE AND FOR LOOP***"
      ],
      "metadata": {
        "id": "zEIavWOk1rNj"
      }
    },
    {
      "cell_type": "code",
      "source": [
        "i = 1\n",
        "while i < 6:\n",
        "  print(i)\n",
        "  i += 1"
      ],
      "metadata": {
        "colab": {
          "base_uri": "https://localhost:8080/"
        },
        "id": "JoVhf6IC1qZU",
        "outputId": "b09eee41-b4e8-411b-cc9e-3090675e75a7"
      },
      "execution_count": 43,
      "outputs": [
        {
          "output_type": "stream",
          "name": "stdout",
          "text": [
            "1\n",
            "2\n",
            "3\n",
            "4\n",
            "5\n"
          ]
        }
      ]
    },
    {
      "cell_type": "code",
      "source": [
        "i = 1\n",
        "while i < 6:\n",
        "  print(i)\n",
        "  if i == 3:\n",
        "    break\n",
        "  i += 1"
      ],
      "metadata": {
        "colab": {
          "base_uri": "https://localhost:8080/"
        },
        "id": "riK4jMrk2O49",
        "outputId": "cc3d4e7e-3e39-42be-a59e-5985ccf1a1be"
      },
      "execution_count": 44,
      "outputs": [
        {
          "output_type": "stream",
          "name": "stdout",
          "text": [
            "1\n",
            "2\n",
            "3\n"
          ]
        }
      ]
    },
    {
      "cell_type": "code",
      "source": [
        "i = 0\n",
        "while i < 6:\n",
        "  i += 1\n",
        "  if i == 3:\n",
        "    continue\n",
        "  print(i)"
      ],
      "metadata": {
        "colab": {
          "base_uri": "https://localhost:8080/"
        },
        "id": "9fQHuUvP2gYV",
        "outputId": "eaa1057c-a0bf-4099-ebc5-deabdba216ae"
      },
      "execution_count": 45,
      "outputs": [
        {
          "output_type": "stream",
          "name": "stdout",
          "text": [
            "1\n",
            "2\n",
            "4\n",
            "5\n",
            "6\n"
          ]
        }
      ]
    }
  ]
}