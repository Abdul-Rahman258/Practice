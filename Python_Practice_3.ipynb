{
  "nbformat": 4,
  "nbformat_minor": 0,
  "metadata": {
    "colab": {
      "provenance": [],
      "authorship_tag": "ABX9TyPeLLMalGse0WPnJJi4SXiA",
      "include_colab_link": true
    },
    "kernelspec": {
      "name": "python3",
      "display_name": "Python 3"
    },
    "language_info": {
      "name": "python"
    }
  },
  "cells": [
    {
      "cell_type": "markdown",
      "metadata": {
        "id": "view-in-github",
        "colab_type": "text"
      },
      "source": [
        "<a href=\"https://colab.research.google.com/github/Abdul-Rahman258/Practice-of-First-Git-repo-Python-Libraries-and-so-on/blob/master/Python_Practice_3.ipynb\" target=\"_parent\"><img src=\"https://colab.research.google.com/assets/colab-badge.svg\" alt=\"Open In Colab\"/></a>"
      ]
    },
    {
      "cell_type": "markdown",
      "source": [
        "# ***LISTS***"
      ],
      "metadata": {
        "id": "417jagjwe8Mi"
      }
    },
    {
      "cell_type": "code",
      "execution_count": 52,
      "metadata": {
        "colab": {
          "base_uri": "https://localhost:8080/"
        },
        "id": "6RGHdmumJ7R3",
        "outputId": "9bad2279-8c13-46e9-d9e4-055c53736497"
      },
      "outputs": [
        {
          "output_type": "stream",
          "name": "stdout",
          "text": [
            "['Car', 'Watch', 'Abdul Rahman', 22, 'SSUET', 22.8, True, 'Watch']\n",
            "8\n"
          ]
        }
      ],
      "source": [
        "Mixlist=[\"Car\",\"Watch\",\"Abdul Rahman\",22,\"SSUET\",22.8,True,\"Watch\"]\n",
        "print(Mixlist)\n",
        "print(len(Mixlist))"
      ]
    },
    {
      "cell_type": "code",
      "source": [
        "x = \"Car,Watch,Abdul Rahman,22,SSUET,22.8,True,Watch\"\n",
        "my_list = x.split(',')\n",
        "print(my_list)"
      ],
      "metadata": {
        "colab": {
          "base_uri": "https://localhost:8080/"
        },
        "id": "1WJXOtnkM239",
        "outputId": "d0004ab3-c8ff-4bbb-b964-29ff8f2cb941"
      },
      "execution_count": 53,
      "outputs": [
        {
          "output_type": "stream",
          "name": "stdout",
          "text": [
            "['Car', 'Watch', 'Abdul Rahman', '22', 'SSUET', '22.8', 'True', 'Watch']\n"
          ]
        }
      ]
    },
    {
      "cell_type": "code",
      "source": [
        "print(Mixlist[0])\n",
        "print(Mixlist[1])\n",
        "print(Mixlist[2])\n",
        "print(Mixlist[3])\n",
        "print(Mixlist[4])\n",
        "print(Mixlist[5])\n",
        "print(Mixlist[6])"
      ],
      "metadata": {
        "colab": {
          "base_uri": "https://localhost:8080/"
        },
        "id": "gsco4IOsNmA1",
        "outputId": "1312dbc9-8feb-49b0-a120-c43727b07384"
      },
      "execution_count": 54,
      "outputs": [
        {
          "output_type": "stream",
          "name": "stdout",
          "text": [
            "Car\n",
            "Watch\n",
            "Abdul Rahman\n",
            "22\n",
            "SSUET\n",
            "22.8\n",
            "True\n"
          ]
        }
      ]
    },
    {
      "cell_type": "markdown",
      "source": [
        "it is used to stroe multiple date in a single variable"
      ],
      "metadata": {
        "id": "x9oKQ3-sLuu4"
      }
    },
    {
      "cell_type": "code",
      "source": [
        "print(Mixlist[-8:-1])\n",
        "print(Mixlist[::-1])"
      ],
      "metadata": {
        "colab": {
          "base_uri": "https://localhost:8080/"
        },
        "id": "NYl9owiDOHgU",
        "outputId": "e4cffba8-7e93-4cd4-b7e3-de0952707b59"
      },
      "execution_count": 55,
      "outputs": [
        {
          "output_type": "stream",
          "name": "stdout",
          "text": [
            "['Car', 'Watch', 'Abdul Rahman', 22, 'SSUET', 22.8, True]\n",
            "['Watch', True, 22.8, 'SSUET', 22, 'Abdul Rahman', 'Watch', 'Car']\n"
          ]
        }
      ]
    },
    {
      "cell_type": "code",
      "source": [
        "if \"Watch\" in Mixlist:\n",
        "  print(\"yes the following element is in the list\")\n",
        "else:\n",
        "  print(\"the following element is not in the list\")"
      ],
      "metadata": {
        "colab": {
          "base_uri": "https://localhost:8080/"
        },
        "id": "R6AZ19UbOd6J",
        "outputId": "5a5cb1c6-f5f3-4957-b484-7fcc1fa02cd4"
      },
      "execution_count": 56,
      "outputs": [
        {
          "output_type": "stream",
          "name": "stdout",
          "text": [
            "yes the following element is in the list\n"
          ]
        }
      ]
    },
    {
      "cell_type": "code",
      "source": [
        "Mixlist[2]=\"Smart watch\"\n",
        "print(Mixlist)"
      ],
      "metadata": {
        "colab": {
          "base_uri": "https://localhost:8080/"
        },
        "id": "4MDV2jTAQOwZ",
        "outputId": "4194a20a-eb50-491d-b76d-188e6ea8945a"
      },
      "execution_count": 57,
      "outputs": [
        {
          "output_type": "stream",
          "name": "stdout",
          "text": [
            "['Car', 'Watch', 'Smart watch', 22, 'SSUET', 22.8, True, 'Watch']\n"
          ]
        }
      ]
    },
    {
      "cell_type": "code",
      "source": [
        "Mixlist[1:3]=[\"House\",\"Shopping Mall\"]\n",
        "print(Mixlist)"
      ],
      "metadata": {
        "colab": {
          "base_uri": "https://localhost:8080/"
        },
        "id": "j1t_sp_-QiSd",
        "outputId": "797a5552-fb8c-4d41-f4e7-6ec5fefe8e84"
      },
      "execution_count": 58,
      "outputs": [
        {
          "output_type": "stream",
          "name": "stdout",
          "text": [
            "['Car', 'House', 'Shopping Mall', 22, 'SSUET', 22.8, True, 'Watch']\n"
          ]
        }
      ]
    },
    {
      "cell_type": "code",
      "source": [
        "Mixlist.insert(1,\"Abdul Rahman Baig\")\n",
        "Mixlist.remove(\"Abdul Rahman Baig\")\n",
        "Mixlist.pop(1)\n",
        "del Mixlist[0:3]\n",
        "print(Mixlist)"
      ],
      "metadata": {
        "colab": {
          "base_uri": "https://localhost:8080/"
        },
        "id": "D3a2mAyCRY3Q",
        "outputId": "7b93167c-f3d8-4741-8e55-62396f28b5d8"
      },
      "execution_count": 59,
      "outputs": [
        {
          "output_type": "stream",
          "name": "stdout",
          "text": [
            "['SSUET', 22.8, True, 'Watch']\n"
          ]
        }
      ]
    },
    {
      "cell_type": "markdown",
      "source": [
        "itratable elements are those elements who can be indexed who can be moved on through each other in number format"
      ],
      "metadata": {
        "id": "CdyVzmC5VCdH"
      }
    },
    {
      "cell_type": "code",
      "source": [
        "thislist_ = [\"apple\", \"banana\", \"cherry\"]\n",
        "tropical = [\"mango\", \"pineapple\", \"papaya\"]\n",
        "thislist_.extend(tropical)\n",
        "print(thislist_)"
      ],
      "metadata": {
        "colab": {
          "base_uri": "https://localhost:8080/"
        },
        "id": "7J-HYKbBUtDO",
        "outputId": "d8d12f1a-b55c-4ec3-d5c4-55ef01e9ef4d"
      },
      "execution_count": 60,
      "outputs": [
        {
          "output_type": "stream",
          "name": "stdout",
          "text": [
            "['apple', 'banana', 'cherry', 'mango', 'pineapple', 'papaya']\n"
          ]
        }
      ]
    },
    {
      "cell_type": "code",
      "source": [
        "thislist0 = [\"apple\", \"banana\", \"cherry\"]\n",
        "thistuple = (\"kiwi\", \"orange\")\n",
        "thislist0.extend(thistuple)\n",
        "print(thislist0)"
      ],
      "metadata": {
        "colab": {
          "base_uri": "https://localhost:8080/"
        },
        "id": "bBacorGMU99J",
        "outputId": "c97d132c-bfbe-4d36-ba6f-ce6a616e5fa9"
      },
      "execution_count": 61,
      "outputs": [
        {
          "output_type": "stream",
          "name": "stdout",
          "text": [
            "['apple', 'banana', 'cherry', 'kiwi', 'orange']\n"
          ]
        }
      ]
    },
    {
      "cell_type": "code",
      "source": [
        "thislist = [\"orange\", \"mango\", \"kiwi\", \"pineapple\", \"banana\"]\n",
        "thislist.sort()\n",
        "print(thislist)\n",
        "\n",
        "thislist1 = [100, 50, 65, 82, 23]\n",
        "thislist1.sort()\n",
        "print(thislist1)"
      ],
      "metadata": {
        "colab": {
          "base_uri": "https://localhost:8080/"
        },
        "id": "_zUgRc4BX8_W",
        "outputId": "76a94122-4e69-44fd-bd10-67fe2988b535"
      },
      "execution_count": 62,
      "outputs": [
        {
          "output_type": "stream",
          "name": "stdout",
          "text": [
            "['banana', 'kiwi', 'mango', 'orange', 'pineapple']\n",
            "[23, 50, 65, 82, 100]\n"
          ]
        }
      ]
    },
    {
      "cell_type": "markdown",
      "source": [
        "in sorting upper case will be sorted first then lower case"
      ],
      "metadata": {
        "id": "q_k_-NVjYzvL"
      }
    },
    {
      "cell_type": "code",
      "source": [
        "thislist = [\"orange\", \"mango\", \"kiwi\", \"pineapple\", \"banana\"]\n",
        "thislist.copy\n",
        "mylist = list(thislist)\n",
        "mylist = thislist[:]\n",
        "print(thislist)"
      ],
      "metadata": {
        "colab": {
          "base_uri": "https://localhost:8080/"
        },
        "id": "xwhR1LHbZZLP",
        "outputId": "c664bfa1-b6f8-41d0-82cc-1cc0a01a5d16"
      },
      "execution_count": 63,
      "outputs": [
        {
          "output_type": "stream",
          "name": "stdout",
          "text": [
            "['orange', 'mango', 'kiwi', 'pineapple', 'banana']\n"
          ]
        }
      ]
    },
    {
      "cell_type": "code",
      "source": [
        "list1 = [\"a\", \"b\", \"c\"]\n",
        "list2 = [1, 2, 3]\n",
        "\n",
        "list3 = list1 + list2\n",
        "print(list3)"
      ],
      "metadata": {
        "colab": {
          "base_uri": "https://localhost:8080/"
        },
        "id": "eqPT2UIOZ1DB",
        "outputId": "4617003a-95d5-44b3-83d5-8ea8eabc12e9"
      },
      "execution_count": 64,
      "outputs": [
        {
          "output_type": "stream",
          "name": "stdout",
          "text": [
            "['a', 'b', 'c', 1, 2, 3]\n"
          ]
        }
      ]
    },
    {
      "cell_type": "markdown",
      "source": [
        "# ***TUPLE***"
      ],
      "metadata": {
        "id": "7YdiAQqTevV6"
      }
    },
    {
      "cell_type": "code",
      "source": [
        "Mytuple= (\"Abdul Rahman Baig\",22,22.8,\"SSUET\")\n",
        "print(len(Mytuple))\n",
        "print(Mytuple)"
      ],
      "metadata": {
        "colab": {
          "base_uri": "https://localhost:8080/"
        },
        "id": "2ecghho3ewry",
        "outputId": "69cf6bbe-d7ab-4512-9049-05003d96917a"
      },
      "execution_count": 46,
      "outputs": [
        {
          "output_type": "stream",
          "name": "stdout",
          "text": [
            "4\n",
            "('Abdul Rahman Baig', 22, 22.8, 'SSUET')\n"
          ]
        }
      ]
    },
    {
      "cell_type": "code",
      "source": [
        "thistuple = (\"apple\",)\n",
        "print(type(thistuple))\n",
        "\n",
        "#NOT a tuple\n",
        "thistuple = (\"apple\")\n",
        "print(type(thistuple))"
      ],
      "metadata": {
        "colab": {
          "base_uri": "https://localhost:8080/"
        },
        "id": "kQFdwMXkf3Z-",
        "outputId": "d0661466-9244-4452-ae53-79f2774e70c0"
      },
      "execution_count": 47,
      "outputs": [
        {
          "output_type": "stream",
          "name": "stdout",
          "text": [
            "<class 'tuple'>\n",
            "<class 'str'>\n"
          ]
        }
      ]
    },
    {
      "cell_type": "markdown",
      "source": [
        "same function as lists in tuple all you have to do i to convert to list first then do any modifications to it"
      ],
      "metadata": {
        "id": "KLGR6h2-gAUm"
      }
    },
    {
      "cell_type": "markdown",
      "source": [
        "Unpacking a Tuple"
      ],
      "metadata": {
        "id": "SXYgc6zjiSL7"
      }
    },
    {
      "cell_type": "code",
      "source": [
        "fruits = (\"apple\", \"banana\", \"cherry\")\n",
        "\n",
        "(green, yellow, red) = fruits\n",
        "\n",
        "print(green)\n",
        "print(yellow)\n",
        "print(red)"
      ],
      "metadata": {
        "colab": {
          "base_uri": "https://localhost:8080/"
        },
        "id": "b7lm4EUJgKMl",
        "outputId": "b747c5a4-f156-4c93-c348-8881f1f168bf"
      },
      "execution_count": 48,
      "outputs": [
        {
          "output_type": "stream",
          "name": "stdout",
          "text": [
            "apple\n",
            "banana\n",
            "cherry\n"
          ]
        }
      ]
    },
    {
      "cell_type": "code",
      "source": [
        "fruits = (\"apple\", \"banana\", \"cherry\", \"strawberry\", \"raspberry\")\n",
        "\n",
        "(green, yellow, *red) = fruits\n",
        "\n",
        "print(green)\n",
        "print(yellow)\n",
        "print(red)\n"
      ],
      "metadata": {
        "colab": {
          "base_uri": "https://localhost:8080/"
        },
        "id": "fBxWfhTCig2j",
        "outputId": "6a2617b6-43a3-439b-a88a-e06388e8f7e9"
      },
      "execution_count": 49,
      "outputs": [
        {
          "output_type": "stream",
          "name": "stdout",
          "text": [
            "apple\n",
            "banana\n",
            "['cherry', 'strawberry', 'raspberry']\n"
          ]
        }
      ]
    },
    {
      "cell_type": "markdown",
      "source": [
        "Multiplying a Tuple"
      ],
      "metadata": {
        "id": "JZzrH1WQjCND"
      }
    },
    {
      "cell_type": "code",
      "source": [
        "fruits = (1, 2, 3)\n",
        "mytuple = fruits * 2\n",
        "\n",
        "print(mytuple)\n"
      ],
      "metadata": {
        "colab": {
          "base_uri": "https://localhost:8080/"
        },
        "id": "7NbfXtNxjFFL",
        "outputId": "429b398e-cbc9-4891-8e72-512e29d6bfc1"
      },
      "execution_count": 51,
      "outputs": [
        {
          "output_type": "stream",
          "name": "stdout",
          "text": [
            "(1, 2, 3, 1, 2, 3)\n"
          ]
        }
      ]
    },
    {
      "cell_type": "markdown",
      "source": [
        "# ***Sets***"
      ],
      "metadata": {
        "id": "u6Y61VEjj2mE"
      }
    },
    {
      "cell_type": "code",
      "source": [
        "thisset = {\"apple\", \"banana\", \"cherry\"}\n",
        "print(thisset)"
      ],
      "metadata": {
        "colab": {
          "base_uri": "https://localhost:8080/"
        },
        "id": "KFTcW53Lj600",
        "outputId": "4a91c54e-f1e1-41e6-f36b-13c0cccbc953"
      },
      "execution_count": 65,
      "outputs": [
        {
          "output_type": "stream",
          "name": "stdout",
          "text": [
            "{'cherry', 'banana', 'apple'}\n"
          ]
        }
      ]
    },
    {
      "cell_type": "markdown",
      "source": [
        "does not accept duplicate other properties are more or less like lists except that it doesnt have indexes its all mixed up  "
      ],
      "metadata": {
        "id": "gviot8APkrZP"
      }
    },
    {
      "cell_type": "code",
      "source": [
        "thisset = {\"apple\", \"banana\", \"cherry\"}\n",
        "\n",
        "for x in thisset:\n",
        "  print(x)\n"
      ],
      "metadata": {
        "id": "6MxI8pgUpF3e"
      },
      "execution_count": null,
      "outputs": []
    },
    {
      "cell_type": "code",
      "source": [
        "thisset = {\"apple\", \"banana\", \"cherry\"}\n",
        "\n",
        "print(\"banana\" in thisset)\n"
      ],
      "metadata": {
        "id": "gqNK_5z6pGpf"
      },
      "execution_count": null,
      "outputs": []
    },
    {
      "cell_type": "code",
      "source": [
        "thisset = {\"apple\", \"banana\", \"cherry\"}\n",
        "\n",
        "thisset.add(\"orange\")\n",
        "\n",
        "print(thisset)\n"
      ],
      "metadata": {
        "id": "DnXUQ2UgpJmv"
      },
      "execution_count": null,
      "outputs": []
    },
    {
      "cell_type": "code",
      "source": [
        "thisset = {\"apple\", \"banana\", \"cherry\"}\n",
        "tropical = {\"pineapple\", \"mango\", \"papaya\"}\n",
        "\n",
        "thisset.update(tropical)\n",
        "\n",
        "print(thisset)\n"
      ],
      "metadata": {
        "id": "8LR9ASBEpRa2"
      },
      "execution_count": null,
      "outputs": []
    },
    {
      "cell_type": "code",
      "source": [
        "thisset = {\"apple\", \"banana\", \"cherry\"}\n",
        "mylist = [\"kiwi\", \"orange\"]\n",
        "\n",
        "thisset.update(mylist)\n",
        "\n",
        "print(thisset)\n"
      ],
      "metadata": {
        "id": "_SCD1d3apUDf"
      },
      "execution_count": null,
      "outputs": []
    },
    {
      "cell_type": "code",
      "source": [
        "thisset = {\"apple\", \"banana\", \"cherry\"}\n",
        "\n",
        "thisset.remove(\"banana\")\n",
        "\n",
        "print(thisset)\n"
      ],
      "metadata": {
        "id": "S7tib7NjpZdO"
      },
      "execution_count": null,
      "outputs": []
    },
    {
      "cell_type": "code",
      "source": [
        "thisset = {\"apple\", \"banana\", \"cherry\"}\n",
        "\n",
        "thisset.discard(\"banana\")\n",
        "\n",
        "print(thisset)"
      ],
      "metadata": {
        "id": "BUrDnHHspba1"
      },
      "execution_count": null,
      "outputs": []
    },
    {
      "cell_type": "code",
      "source": [
        "thisset = {\"apple\", \"banana\", \"cherry\"}\n",
        "\n",
        "x = thisset.pop()\n",
        "\n",
        "print(x)\n",
        "\n",
        "print(thisset)\n"
      ],
      "metadata": {
        "id": "gAIxvGsspcVW"
      },
      "execution_count": null,
      "outputs": []
    },
    {
      "cell_type": "code",
      "source": [
        "thisset = {\"apple\", \"banana\", \"cherry\"}\n",
        "\n",
        "del thisset\n",
        "\n",
        "print(thisset)\n"
      ],
      "metadata": {
        "id": "TooHJCiipfHW"
      },
      "execution_count": null,
      "outputs": []
    },
    {
      "cell_type": "markdown",
      "source": [
        "JOIN SETS"
      ],
      "metadata": {
        "id": "Av4cNfNApzsm"
      }
    },
    {
      "cell_type": "code",
      "source": [
        "set1 = {\"a\", \"b\", \"c\"}\n",
        "set2 = {1, 2, 3}\n",
        "\n",
        "set3 = set1.union(set2)\n",
        "print(set3)\n"
      ],
      "metadata": {
        "id": "-Mx_HcBPp1C9"
      },
      "execution_count": null,
      "outputs": []
    },
    {
      "cell_type": "code",
      "source": [
        "set1 = {\"a\", \"b\", \"c\"}\n",
        "set2 = {1, 2, 3}\n",
        "\n",
        "set3 = set1 | set2\n",
        "print(set3)\n"
      ],
      "metadata": {
        "id": "NX2dJYMBp9e9"
      },
      "execution_count": null,
      "outputs": []
    },
    {
      "cell_type": "code",
      "source": [
        "set1 = {\"a\", \"b\", \"c\"}\n",
        "set2 = {1, 2, 3}\n",
        "set3 = {\"John\", \"Elena\"}\n",
        "set4 = {\"apple\", \"bananas\", \"cherry\"}\n",
        "\n",
        "myset = set1.union(set2, set3, set4)\n",
        "print(myset)\n"
      ],
      "metadata": {
        "id": "zQmEWowqp_P3"
      },
      "execution_count": null,
      "outputs": []
    },
    {
      "cell_type": "code",
      "source": [
        "set1 = {\"a\", \"b\", \"c\"}\n",
        "set2 = {1, 2, 3}\n",
        "set3 = {\"John\", \"Elena\"}\n",
        "set4 = {\"apple\", \"bananas\", \"cherry\"}\n",
        "\n",
        "myset = set1 | set2 | set3 |set4\n",
        "print(myset)\n"
      ],
      "metadata": {
        "id": "08l5S6q7qCK2"
      },
      "execution_count": null,
      "outputs": []
    },
    {
      "cell_type": "code",
      "source": [
        "x = {\"a\", \"b\", \"c\"}\n",
        "y = (1, 2, 3)\n",
        "\n",
        "z = x.union(y)\n",
        "print(z)\n"
      ],
      "metadata": {
        "id": "1elQNXbFqHNN"
      },
      "execution_count": null,
      "outputs": []
    },
    {
      "cell_type": "code",
      "source": [
        "set1 = {\"a\", \"b\" , \"c\"}\n",
        "set2 = {1, 2, 3}\n",
        "\n",
        "set1.update(set2)\n",
        "print(set1)"
      ],
      "metadata": {
        "id": "SIGannDZqPB3"
      },
      "execution_count": null,
      "outputs": []
    },
    {
      "cell_type": "markdown",
      "source": [
        "DICTIONARIES AND LISTS ARE THE MOST USED DATATYPES IN PYTHON"
      ],
      "metadata": {
        "id": "0zllwadsqQo5"
      }
    },
    {
      "cell_type": "code",
      "source": [
        "set1 = {\"apple\", \"banana\", \"cherry\"}\n",
        "set2 = {\"google\", \"microsoft\", \"apple\"}\n",
        "\n",
        "set3 = set1.intersection(set2)\n",
        "print(set3)\n"
      ],
      "metadata": {
        "id": "ZN4jIRCeqobN"
      },
      "execution_count": null,
      "outputs": []
    },
    {
      "cell_type": "code",
      "source": [
        "set1 = {\"apple\", \"banana\", \"cherry\"}\n",
        "set2 = {\"google\", \"microsoft\", \"apple\"}\n",
        "\n",
        "set3 = set1 & set2\n",
        "print(set3)\n"
      ],
      "metadata": {
        "id": "u_LiHBPDqpFl"
      },
      "execution_count": null,
      "outputs": []
    },
    {
      "cell_type": "code",
      "source": [
        "set1 = {\"apple\", \"banana\", \"cherry\"}\n",
        "set2 = {\"google\", \"microsoft\", \"apple\"}\n",
        "\n",
        "set1.intersection_update(set2)\n",
        "\n",
        "print(set1)"
      ],
      "metadata": {
        "id": "Rbw5zVSnqr5d"
      },
      "execution_count": null,
      "outputs": []
    },
    {
      "cell_type": "code",
      "source": [
        "set1 = {\"apple\", \"banana\", \"cherry\"}\n",
        "set2 = {\"google\", \"microsoft\", \"apple\"}\n",
        "\n",
        "set3 = set1.difference(set2)\n",
        "\n",
        "print(set3)\n"
      ],
      "metadata": {
        "id": "IvZXz2J0q1V9"
      },
      "execution_count": null,
      "outputs": []
    },
    {
      "cell_type": "code",
      "source": [
        "set1 = {\"apple\", \"banana\", \"cherry\"}\n",
        "set2 = {\"google\", \"microsoft\", \"apple\"}\n",
        "\n",
        "set1.difference_update(set2)\n",
        "\n",
        "print(set1)\n"
      ],
      "metadata": {
        "id": "XKFeb_qbq5Al"
      },
      "execution_count": null,
      "outputs": []
    },
    {
      "cell_type": "code",
      "source": [
        "set1 = {\"apple\", \"banana\", \"cherry\"}\n",
        "set2 = {\"google\", \"microsoft\", \"apple\"}\n",
        "\n",
        "set3 = set1.symmetric_difference(set2)\n",
        "\n",
        "print(set3)\n"
      ],
      "metadata": {
        "id": "6gmgcqyCq8RN"
      },
      "execution_count": null,
      "outputs": []
    },
    {
      "cell_type": "code",
      "source": [
        "set1 = {\"apple\", \"banana\", \"cherry\"}\n",
        "set2 = {\"google\", \"microsoft\", \"apple\"}\n",
        "\n",
        "set3 = set1 ^ set2\n",
        "print(set3)"
      ],
      "metadata": {
        "id": "z_8B4k0vrUgl"
      },
      "execution_count": null,
      "outputs": []
    },
    {
      "cell_type": "code",
      "source": [
        "set1 = {\"apple\", \"banana\", \"cherry\"}\n",
        "set2 = {\"google\", \"microsoft\", \"apple\"}\n",
        "\n",
        "set1.symmetric_difference_update(set2)\n",
        "\n",
        "print(set1)\n"
      ],
      "metadata": {
        "id": "VvKQ3BUFr5V8"
      },
      "execution_count": null,
      "outputs": []
    }
  ]
}