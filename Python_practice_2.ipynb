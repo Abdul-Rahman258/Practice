{
  "nbformat": 4,
  "nbformat_minor": 0,
  "metadata": {
    "colab": {
      "provenance": [],
      "authorship_tag": "ABX9TyNeKEOjH7RByARFj6B9r93d",
      "include_colab_link": true
    },
    "kernelspec": {
      "name": "python3",
      "display_name": "Python 3"
    },
    "language_info": {
      "name": "python"
    }
  },
  "cells": [
    {
      "cell_type": "markdown",
      "metadata": {
        "id": "view-in-github",
        "colab_type": "text"
      },
      "source": [
        "<a href=\"https://colab.research.google.com/github/Abdul-Rahman258/Practice/blob/master/Python_practice_2.ipynb\" target=\"_parent\"><img src=\"https://colab.research.google.com/assets/colab-badge.svg\" alt=\"Open In Colab\"/></a>"
      ]
    },
    {
      "cell_type": "code",
      "execution_count": 9,
      "metadata": {
        "colab": {
          "base_uri": "https://localhost:8080/"
        },
        "id": "mGCZze0z71ED",
        "outputId": "752fe11f-0263-43e0-ff8b-43a0c96e05db"
      },
      "outputs": [
        {
          "output_type": "stream",
          "name": "stdout",
          "text": [
            "Hello world Hello World  \n",
            "Hello \n",
            "World\n",
            " \n",
            "Hello\n",
            "World\n",
            "\n",
            "H\n",
            "11\n",
            "True\n",
            "Yes the word is available\n"
          ]
        }
      ],
      "source": [
        "x = \"Hello world\"\n",
        "y = 'Hello World'\n",
        "z = \"\"\"\n",
        "Hello\n",
        "World\n",
        "\"\"\"\n",
        "w = '''\n",
        "Hello\n",
        "World\n",
        "'''\n",
        "print (x,y,z,w)\n",
        "print (x[0])\n",
        "print (len(x))\n",
        "print (\"world\" in x)\n",
        "if \"World\" in y:\n",
        "  print(\"Yes the word is available\")"
      ]
    },
    {
      "cell_type": "markdown",
      "source": [
        "u can use not in to see if its not there"
      ],
      "metadata": {
        "id": "H5ZV2qa5C-ZX"
      }
    },
    {
      "cell_type": "code",
      "source": [
        "a = \"Hello, World\"\n",
        "b = \"my,name,is,Abdul,Rahman,Baig\"\n",
        "print (a[2:5])\n",
        "print (a[:5])\n",
        "print (a[2:])\n",
        "print (a[-5:-2])"
      ],
      "metadata": {
        "colab": {
          "base_uri": "https://localhost:8080/"
        },
        "id": "T3h2FvTmDB29",
        "outputId": "63818181-5cb5-456a-a9a9-75ab97444246"
      },
      "execution_count": 13,
      "outputs": [
        {
          "output_type": "stream",
          "name": "stdout",
          "text": [
            "llo\n",
            "Hello\n",
            "llo World\n",
            "Wor\n"
          ]
        }
      ]
    },
    {
      "cell_type": "code",
      "source": [
        "b = \"my,name,is,Abdul,Rahman,Baig\"\n",
        "print(b.split(\",\"))"
      ],
      "metadata": {
        "colab": {
          "base_uri": "https://localhost:8080/"
        },
        "id": "bHFDVNN4Jo3r",
        "outputId": "e01dc0ae-627a-49fb-936f-5e32a7ceaf0a"
      },
      "execution_count": 34,
      "outputs": [
        {
          "output_type": "stream",
          "name": "stdout",
          "text": [
            "['my', 'name', 'is', 'Abdul', 'Rahman', 'Baig']\n"
          ]
        }
      ]
    },
    {
      "cell_type": "code",
      "source": [
        "c=\"Hello\"\n",
        "d=\"World\"\n",
        "e= c+d\n",
        "print(e)"
      ],
      "metadata": {
        "colab": {
          "base_uri": "https://localhost:8080/"
        },
        "id": "YT9kvtusKXE4",
        "outputId": "44d93571-2072-41f3-e248-3b2f3b2c175e"
      },
      "execution_count": 35,
      "outputs": [
        {
          "output_type": "stream",
          "name": "stdout",
          "text": [
            "HelloWorld\n"
          ]
        }
      ]
    },
    {
      "cell_type": "code",
      "source": [
        "e=\"                 A jack oF aLl traDes is A master of nonE,but often,times better than a master of one            \"\n",
        "e_strip= e.strip()\n",
        "e_upper= e_strip.upper()\n",
        "e_lower= e_upper.lower()\n",
        "e_split=e_lower.split(\",\")\n",
        "print(e_split)"
      ],
      "metadata": {
        "colab": {
          "base_uri": "https://localhost:8080/"
        },
        "id": "WTRZcrVeMiiD",
        "outputId": "23cc3081-8788-4ae3-84af-971ed874bc36"
      },
      "execution_count": 42,
      "outputs": [
        {
          "output_type": "stream",
          "name": "stdout",
          "text": [
            "['a jack of all trades is a master of none', 'but often', 'times better than a master of one']\n"
          ]
        }
      ]
    },
    {
      "cell_type": "code",
      "source": [
        "age = 36\n",
        "txt = f\"My name is John, I am {age}\"\n",
        "print(txt)"
      ],
      "metadata": {
        "colab": {
          "base_uri": "https://localhost:8080/"
        },
        "id": "LcyAOyAEPjxh",
        "outputId": "975f2596-0f09-4745-bfbe-11510fbe2053"
      },
      "execution_count": 43,
      "outputs": [
        {
          "output_type": "stream",
          "name": "stdout",
          "text": [
            "My name is John, I am 36\n"
          ]
        }
      ]
    },
    {
      "cell_type": "code",
      "source": [
        "print(b.encode())"
      ],
      "metadata": {
        "colab": {
          "base_uri": "https://localhost:8080/"
        },
        "id": "5MauLMGiURFc",
        "outputId": "c354b15f-527f-4847-fd2a-ca10a5c7a400"
      },
      "execution_count": 45,
      "outputs": [
        {
          "output_type": "stream",
          "name": "stdout",
          "text": [
            "b'my,name,is,Abdul,Rahman,Baig'\n"
          ]
        }
      ]
    },
    {
      "cell_type": "code",
      "source": [
        "print(10 > 9)\n",
        "print(10 == 9)\n",
        "print(10 < 9)"
      ],
      "metadata": {
        "colab": {
          "base_uri": "https://localhost:8080/"
        },
        "id": "d1Vn1VWHVsxf",
        "outputId": "5fe21fa9-ef92-4f06-ef6c-1986ab2e3720"
      },
      "execution_count": 46,
      "outputs": [
        {
          "output_type": "stream",
          "name": "stdout",
          "text": [
            "True\n",
            "False\n",
            "False\n"
          ]
        }
      ]
    }
  ]
}